{
 "cells": [
  {
   "cell_type": "markdown",
   "metadata": {
    "scrolled": false
   },
   "source": [
    "# Librairies & Functions"
   ]
  },
  {
   "cell_type": "code",
   "execution_count": 1,
   "metadata": {},
   "outputs": [
    {
     "name": "stderr",
     "output_type": "stream",
     "text": [
      "D:\\Anaconda3\\envs\\tensorflow\\lib\\site-packages\\h5py\\__init__.py:36: FutureWarning: Conversion of the second argument of issubdtype from `float` to `np.floating` is deprecated. In future, it will be treated as `np.float64 == np.dtype(float).type`.\n",
      "  from ._conv import register_converters as _register_converters\n",
      "Using TensorFlow backend.\n"
     ]
    }
   ],
   "source": [
    "import numpy as np\n",
    "import matplotlib.pyplot as plt\n",
    "import SimpleITK as sitk\n",
    "import cv2\n",
    "import glob\n",
    "from scipy import ndimage\n",
    "import time\n",
    "from keras.models import *\n",
    "from keras.layers import Input, merge, Conv2D, MaxPooling2D, UpSampling2D, Dropout, Cropping2D\n",
    "from keras.optimizers import *\n",
    "from keras.callbacks import ModelCheckpoint, LearningRateScheduler\n",
    "from keras import backend as keras\n",
    "from skimage.transform import resize\n",
    "\n",
    "smooth = 1e-3\n",
    "#from skimage import morphology\n",
    "\n",
    "volumes_path = \"data/volumes\"\n",
    "#labels_path = \"data/labels\"\n",
    "\n",
    "img_type = \"mhd\"\n",
    "np.set_printoptions(threshold=np.inf)\n",
    "\n",
    "def load_itk(filename):\n",
    "    # Reads the image using SimpleITK\n",
    "    itkimage = sitk.ReadImage(filename)\n",
    "\n",
    "    # Convert the image to a  numpy array first and then shuffle the dimensions to get axis in the order z,y,x\n",
    "    ct_scan = sitk.GetArrayFromImage(itkimage)\n",
    "\n",
    "    # Read the origin of the ct_scan, will be used to convert the coordinates from world to voxel and vice versa.\n",
    "    origin = np.array(list(reversed(itkimage.GetOrigin())))\n",
    "\n",
    "    # Read the spacing along each dimension\n",
    "    spacing = np.array(list(reversed(itkimage.GetSpacing())))\n",
    "\n",
    "    return ct_scan, origin, spacing\n",
    "\n",
    "\n",
    "# def dice_coef(y_true, y_pred):\n",
    "#     y_true_f = K.flatten(y_true)\n",
    "#     y_pred_f = K.flatten(y_pred)\n",
    "#     intersection = K.sum(y_true_f * y_pred_f)\n",
    "#     return (2. * intersection + smooth) / (K.sum(y_true_f) + K.sum(y_pred_f) + smooth)\n",
    "\n",
    "def dice_coef(y_true, y_pred):\n",
    "    y_true_f = K.flatten(y_true)\n",
    "    y_pred_f = K.flatten(y_pred)\n",
    "    intersection = K.sum(y_true_f * y_pred_f)\n",
    "    return (2. * intersection + smooth) / (K.sum(y_true_f) + K.sum(y_pred_f) + smooth)\n",
    "\n",
    "def dice_coef_loss(y_true, y_pred):\n",
    "    return 1 - dice_coef(y_true, y_pred)\n",
    "\n",
    "\n",
    "def create_numpy_labels(labels_path, view):\n",
    "    start_time = time.time()\n",
    "    labels_list = glob.glob(labels_path+\"/*.\"+img_type)\n",
    "    labels_list.sort()\n",
    "    #print(labels_list)\n",
    "\n",
    "    #Create a numpy array. It will contain every slices of all labels.\n",
    "    numpy_labels = np.ndarray((0,128,128,1), dtype=np.uint8)\n",
    "    labels_shape = np.ndarray((len(labels_list),3), dtype=np.uint16)\n",
    "    #index of the slice position\n",
    "    index = 0\n",
    "    index_2 = 0\n",
    "    \n",
    "    for label_name in labels_list :\n",
    "    \n",
    "        #mri_scan is the 3D label converted in numpy array\n",
    "        (mri_scan, origin, spacing) = load_itk(label_name)\n",
    "        labels_shape[index_2] = mri_scan.shape\n",
    "        index_2 +=1\n",
    "        if(view == 'coronnal'):\n",
    "            label_3d = np.transpose(mri_scan, (2, 1, 0))\n",
    "        elif(view == 'axial'):\n",
    "            label_3d = np.transpose(mri_scan, (1, 0, 2))\n",
    "        elif(view == 'sagittal'):\n",
    "            label_3d = mri_scan\n",
    "        else:\n",
    "            print('Vue non renseignee')\n",
    "            \n",
    "        #increase the size of numpy_labels corresponding to the 3d label processed in this loop\n",
    "        numpy_labels = np.lib.pad(numpy_labels, ((0,label_3d.shape[0]),(0,0),(0,0),(0,0)), 'constant', constant_values=(0))\n",
    "    \n",
    "    \n",
    "        #We resize every slices and put them into numpy_volumes\n",
    "        for i in range(0,label_3d.shape[0]):\n",
    "        \n",
    "            mri_slice_res = cv2.resize(label_3d[i], dsize=(128, 128), interpolation=cv2.INTER_CUBIC)\n",
    "        \n",
    "            mask1 = mri_slice_res == 2\n",
    "            mri_slice_res[mask1] = 0\n",
    "\n",
    "            mask2 = mri_slice_res == 4\n",
    "            mri_slice_res[mask2] = 0\n",
    "\n",
    "            mask3 = mri_slice_res == 1\n",
    "            mri_slice_res[mask3] = 255\n",
    "\n",
    "            mask4 = mri_slice_res == 3\n",
    "            mri_slice_res[mask4] = 0\n",
    "        \n",
    "            #Ouverture pour enlever les defauts apparus lors du redimensionnement\n",
    "            mri_slice_res = ndimage.binary_opening(mri_slice_res, structure=np.ones((3,3))).astype(int)\n",
    "            #mri_slice_res = ndimage.remove_small_objects(mri_slice_res, 8)\n",
    "        \n",
    "            mask5 = mri_slice_res == 1\n",
    "            mri_slice_res[mask5] = 255\n",
    "        \n",
    "            mri_slice_res = mri_slice_res[..., np.newaxis]\n",
    "\n",
    "            numpy_labels[i + index] = mri_slice_res\n",
    "\n",
    "        \n",
    "    \n",
    "        index = index + label_3d.shape[0]\n",
    "\n",
    "    \n",
    "    print('Shape of the labels numpy array : ',numpy_labels.shape)\n",
    "    print('Type of the array is : ',numpy_labels.dtype)\n",
    "    print(\"Time to process --- %s seconds ---\" % (time.time() - start_time))\n",
    "    \n",
    "    return numpy_labels, labels_shape\n",
    "\n",
    "\n",
    "def create_numpy_volumes(volumes_path, view):\n",
    "    start_time = time.time()\n",
    "    \n",
    "    #Create a list of each volume's path\n",
    "    volumes_list = glob.glob(volumes_path+\"/*.\"+img_type)\n",
    "    volumes_list.sort()\n",
    "\n",
    "    #Create a numpy array. It will contain every slices of all volumes.\n",
    "    numpy_volumes = np.ndarray((0,128,128,1), dtype=np.uint8)\n",
    "    volumes_shape = np.ndarray((len(volumes_list),3), dtype=np.uint16)\n",
    "\n",
    "    #index of the slice position\n",
    "    index = 0\n",
    "    index_2 = 0\n",
    "\n",
    "    for volume_name in volumes_list :\n",
    "        #mri_scan is the volume converted in numpy array\n",
    "        (mri_volume, origin, spacing) = load_itk(volume_name)\n",
    "        \n",
    "        volumes_shape[index_2] = mri_volume.shape\n",
    "        index_2 +=1\n",
    "        \n",
    "        if(view == 'coronnal'):\n",
    "            mri_volume = np.transpose(mri_volume, (2, 1, 0))\n",
    "        elif(view == 'axial'):\n",
    "            mri_volume = np.transpose(mri_volume, (1, 0, 2))\n",
    "        elif(view == 'sagittal'):\n",
    "            mri_volume = mri_volume\n",
    "        else:\n",
    "            print('Vue non renseignee')\n",
    "\n",
    "    \n",
    "    \n",
    "        mri_volume = 255 / np.amax(mri_volume) * mri_volume\n",
    "    \n",
    "        mri_volume = mri_volume.astype('uint8')\n",
    "\n",
    "    \n",
    "        #increase the size of numpy_volumes corresponding to the volume processed in this loop\n",
    "        numpy_volumes = np.lib.pad(numpy_volumes, ((0,mri_volume.shape[0]),(0,0),(0,0),(0,0)), 'constant', constant_values=(0))\n",
    "    \n",
    "    \n",
    "        #We resize every slices and put them into numpy_volumes\n",
    "        for i in range(0,mri_volume.shape[0]):\n",
    "        \n",
    "            mri_slice_res = cv2.resize(mri_volume[i], dsize=(128, 128), interpolation=cv2.INTER_CUBIC)\n",
    "            mri_slice_res = mri_slice_res[..., np.newaxis]\n",
    "            \n",
    "        \n",
    "        \n",
    "            numpy_volumes[i + index] = mri_slice_res\n",
    "\n",
    "        \n",
    "    \n",
    "        index = index + mri_volume.shape[0]\n",
    "    \n",
    "\n",
    "    \n",
    "    \n",
    "    print('Shape of the volumes numpy array : ',numpy_volumes.shape)\n",
    "    print('Type of the array is : ',numpy_volumes.dtype)\n",
    "    print(\"Time to process --- %s seconds ---\" % (time.time() - start_time))\n",
    "    \n",
    "    return numpy_volumes, volumes_shape\n",
    "\n",
    "class myUnet(object):\n",
    "\n",
    "\tdef __init__(self, img_rows = 128, img_cols = 128):\n",
    "\n",
    "\t\tself.img_rows = img_rows\n",
    "\t\tself.img_cols = img_cols\n",
    "\n",
    "\tdef load_data(self):\n",
    "\n",
    "\t\tmydata = dataProcess(self.img_rows, self.img_cols)\n",
    "\t\timgs_train, imgs_mask_train = mydata.load_train_data()\n",
    "\t\timgs_test = mydata.load_test_data()\n",
    "\t\treturn imgs_train, imgs_mask_train, imgs_test\n",
    "\n",
    "\tdef get_unet(self):\n",
    "\n",
    "\t\tinputs = Input((self.img_rows, self.img_cols,1))\n",
    "\t\t\n",
    "\n",
    "\t\tconv1 = Conv2D(64, 3, activation = 'elu', padding = 'same', kernel_initializer = 'he_normal')(inputs)\n",
    "\t\tprint (\"conv1 shape:\",conv1.shape)\n",
    "\t\tconv1 = Conv2D(64, 3, activation = 'elu', padding = 'same', kernel_initializer = 'he_normal')(conv1)\n",
    "\t\tprint (\"conv1 shape:\",conv1.shape)\n",
    "\t\t#norm1 = BatchNormalization(axis=-1)\n",
    "\t\tpool1 = MaxPooling2D(pool_size=(2, 2))(conv1)\n",
    "\t\tprint (\"pool1 shape:\",pool1.shape)\n",
    "\n",
    "\t\tconv2 = Conv2D(128, 3, activation = 'elu', padding = 'same', kernel_initializer = 'he_normal')(pool1)\n",
    "\t\tprint (\"conv2 shape:\",conv2.shape)\n",
    "\t\tconv2 = Conv2D(128, 3, activation = 'elu', padding = 'same', kernel_initializer = 'he_normal')(conv2)\n",
    "\t\tprint (\"conv2 shape:\",conv2.shape)\n",
    "\t\t#norm2 = BatchNormalization(axis=-1)\n",
    "\t\tpool2 = MaxPooling2D(pool_size=(2, 2))(conv2)\n",
    "\t\tprint (\"pool2 shape:\",pool2.shape)\n",
    "\n",
    "\t\tconv3 = Conv2D(256, 3, activation = 'elu', padding = 'same', kernel_initializer = 'he_normal')(pool2)\n",
    "\t\tprint (\"conv3 shape:\",conv3.shape)\n",
    "\t\tconv3 = Conv2D(256, 3, activation = 'elu', padding = 'same', kernel_initializer = 'he_normal')(conv3)\n",
    "\t\tprint (\"conv3 shape:\",conv3.shape)\n",
    "\t\t#norm3 = BatchNormalization(axis=-1)\n",
    "\t\tpool3 = MaxPooling2D(pool_size=(2, 2))(conv3)\n",
    "\t\tprint (\"pool3 shape:\",pool3.shape)\n",
    "\n",
    "\t\tconv4 = Conv2D(512, 3, activation = 'elu', padding = 'same', kernel_initializer = 'he_normal')(pool3)\n",
    "\t\tconv4 = Conv2D(512, 3, activation = 'elu', padding = 'same', kernel_initializer = 'he_normal')(conv4)\n",
    "\t\tdrop4 = Dropout(0.5)(conv4)\n",
    "\t\tpool4 = MaxPooling2D(pool_size=(2, 2))(drop4)\n",
    "\n",
    "\t\tconv5 = Conv2D(1024, 3, activation = 'elu', padding = 'same', kernel_initializer = 'he_normal')(pool4)\n",
    "\t\tconv5 = Conv2D(1024, 3, activation = 'elu', padding = 'same', kernel_initializer = 'he_normal')(conv5)\n",
    "\t\tdrop5 = Dropout(0.5)(conv5)\n",
    "\n",
    "\t\tup6 = Conv2D(512, 2, activation = 'relu', padding = 'same', kernel_initializer = 'he_normal')(UpSampling2D(size = (2,2))(drop5))\n",
    "\t\tmerge6 = merge([drop4,up6], mode = 'concat', concat_axis = 3)\n",
    "\t\tconv6 = Conv2D(512, 3, activation = 'relu', padding = 'same', kernel_initializer = 'he_normal')(merge6)\n",
    "\t\tconv6 = Conv2D(512, 3, activation = 'relu', padding = 'same', kernel_initializer = 'he_normal')(conv6)\n",
    "\n",
    "\t\tup7 = Conv2D(256, 2, activation = 'elu', padding = 'same', kernel_initializer = 'he_normal')(UpSampling2D(size = (2,2))(conv6))\n",
    "\t\tmerge7 = merge([conv3,up7], mode = 'concat', concat_axis = 3)\n",
    "\t\tconv7 = Conv2D(256, 3, activation = 'elu', padding = 'same', kernel_initializer = 'he_normal')(merge7)\n",
    "\t\tconv7 = Conv2D(256, 3, activation = 'elu', padding = 'same', kernel_initializer = 'he_normal')(conv7)\n",
    "\n",
    "\t\tup8 = Conv2D(128, 2, activation = 'elu', padding = 'same', kernel_initializer = 'he_normal')(UpSampling2D(size = (2,2))(conv7))\n",
    "\t\tmerge8 = merge([conv2,up8], mode = 'concat', concat_axis = 3)\n",
    "\t\tconv8 = Conv2D(128, 3, activation = 'elu', padding = 'same', kernel_initializer = 'he_normal')(merge8)\n",
    "\t\tconv8 = Conv2D(128, 3, activation = 'elu', padding = 'same', kernel_initializer = 'he_normal')(conv8)\n",
    "\n",
    "\t\tup9 = Conv2D(64, 2, activation = 'elu', padding = 'same', kernel_initializer = 'he_normal')(UpSampling2D(size = (2,2))(conv8))\n",
    "\t\tmerge9 = merge([conv1,up9], mode = 'concat', concat_axis = 3)\n",
    "\t\tconv9 = Conv2D(64, 3, activation = 'elu', padding = 'same', kernel_initializer = 'he_normal')(merge9)\n",
    "\t\tconv9 = Conv2D(64, 3, activation = 'elu', padding = 'same', kernel_initializer = 'he_normal')(conv9)\n",
    "\t\tconv9 = Conv2D(2, 3, activation = 'elu', padding = 'same', kernel_initializer = 'he_normal')(conv9)\n",
    "\n",
    "\n",
    "\n",
    "\n",
    "        \n",
    "\t\tconv10 = Conv2D(1, 1, activation = 'sigmoid')(conv9)\n",
    "\n",
    "\t\tmodel = Model(input = inputs, output = conv10)\n",
    "        \n",
    "\t\t#model_dice = dice_loss(smooth=1e-5, thresh=0.9)\n",
    "        \n",
    "\t\t#model.compile(optimizer = SGD(lr=0.0001, momentum=0.002, decay=0.002, nesterov=True), loss = 'binary_crossentropy', metrics = ['accuracy'])\n",
    "\t\t#model.compile(optimizer = RMSprop(lr = 1e-4), loss = 'binary_crossentropy', metrics = ['accuracy'])\n",
    "\t\tmodel.compile(optimizer = Adam(lr = 1e-4), loss = dice_coef_loss, metrics = [dice_coef])\n",
    "\n",
    "\t\treturn model\n",
    "\n",
    "\n",
    "\tdef train(self):\n",
    "\n",
    "\t\tprint(\"loading data\")\n",
    "\t\timgs_train, imgs_mask_train, imgs_test = self.load_data()\n",
    "\t\tprint(\"loading data done\")\n",
    "\t\tmodel = self.get_unet()\n",
    "\t\t#print(model.summary())\n",
    "\t\t#print(\"MODEL ENREGISTRE\")\n",
    "\t\tprint(\"got unet\")\n",
    "\n",
    "\t\t#model_checkpoint = ModelCheckpoint('unet.hdf5', monitor='loss',verbose=1, save_best_only=True)\n",
    "        \n",
    "        # checkpoint\n",
    "\t\tfilepath=\"weights-improvement-{epoch:02d}-{val_loss:.2f}.hdf5\"\n",
    "\t\tmodel_checkpoint = ModelCheckpoint(filepath, monitor='val_loss', verbose=1, save_best_only=True, mode='min')\n",
    "\t\tcallbacks_list = [model_checkpoint]\n",
    "\t\tprint('Fitting model...')\n",
    "\t\thistory = model.fit(imgs_train, imgs_mask_train, batch_size=32, nb_epoch=150, verbose=1,validation_split=0.15, shuffle=True, callbacks=callbacks_list)\n",
    "\t\t#rint('Fitting model...')\n",
    "\t\t#history = model.fit(imgs_train, imgs_mask_train, batch_size=1, nb_epoch=5, verbose=1,validation_split=0.2, shuffle=True, callbacks=[model_checkpoint])\n",
    "\n",
    "\t\tprint(history.history.keys())\n",
    "\t\t\n",
    "\t\t# summarize history for accuracy\n",
    "\t\tplt.plot(history.history['dice_coef'])\n",
    "\t\tplt.plot(history.history['val_dice_coef'])\n",
    "\t\tplt.title('model accuracy')\n",
    "\t\tplt.ylabel('Dice')\n",
    "\t\tplt.xlabel('epoch')\n",
    "\t\tplt.legend(['train', 'validation'], loc='upper left')\n",
    "\t\tplt.show()\n",
    "\t\t\n",
    "\t\t# summarize history for loss\n",
    "\t\tplt.plot(history.history['loss'])\n",
    "\t\tplt.plot(history.history['val_loss'])\n",
    "\t\tplt.title('model loss')\n",
    "\t\tplt.ylabel('loss')\n",
    "\t\tplt.xlabel('epoch')\n",
    "\t\tplt.legend(['train', 'validation'], loc='upper left')\n",
    "\t\tplt.show()\n",
    "\t\t\n",
    "\t\t\n",
    "\t\t\n",
    "\t\tprint('predict test data')\n",
    "\t\timgs_mask_test = model.predict(imgs_test, batch_size=1, verbose=1)\n",
    "\t\tnp.save('results/imgs_mask_test.npy', imgs_mask_test)\n",
    "\n",
    "\tdef save_img(self):\n",
    "\n",
    "\t\tprint(\"array to image\")\n",
    "\t\timgs = np.load('results/imgs_mask_test.npy')\n",
    "\t\tfor i in range(imgs.shape[0]):\n",
    "\t\t\timg = imgs[i]\n",
    "\t\t\timg = array_to_img(img)\n",
    "\t\t\timg.save(\"results/%d.jpg\"%(i))"
   ]
  },
  {
   "cell_type": "markdown",
   "metadata": {},
   "source": [
    "# Import and pre-process volumes"
   ]
  },
  {
   "cell_type": "code",
   "execution_count": 10,
   "metadata": {
    "scrolled": true
   },
   "outputs": [
    {
     "name": "stdout",
     "output_type": "stream",
     "text": [
      "Shape of the volumes numpy array :  (295, 128, 128, 1)\n",
      "Type of the array is :  uint8\n",
      "Time to process --- 0.1334543228149414 seconds ---\n",
      "Shape of the volumes numpy array :  (363, 128, 128, 1)\n",
      "Type of the array is :  uint8\n",
      "Time to process --- 0.10934948921203613 seconds ---\n",
      "Shape of the volumes numpy array :  (112, 128, 128, 1)\n",
      "Type of the array is :  uint8\n",
      "Time to process --- 0.10076332092285156 seconds ---\n"
     ]
    }
   ],
   "source": [
    "volumes_coronal, volumes_shape = create_numpy_volumes('data/test3d', 'coronnal')\n",
    "volumes_axial, volumes_shape  = create_numpy_volumes('data/test3d', 'axial')\n",
    "volumes_sagittal, volumes_shape = create_numpy_volumes('data/test3d', 'sagittal')\n",
    "\n",
    "volumes_coronal = volumes_coronal.astype('float32')\n",
    "volumes_axial = volumes_axial.astype('float32')\n",
    "volumes_sagittal = volumes_sagittal.astype('float32')\n",
    "\n",
    "volumes_coronal /= 255\n",
    "volumes_axial /= 255\n",
    "volumes_sagittal /= 255"
   ]
  },
  {
   "cell_type": "markdown",
   "metadata": {},
   "source": [
    "# Predict Labels"
   ]
  },
  {
   "cell_type": "code",
   "execution_count": 11,
   "metadata": {
    "scrolled": true
   },
   "outputs": [
    {
     "name": "stdout",
     "output_type": "stream",
     "text": [
      "conv1 shape: (?, 128, 128, 64)\n",
      "conv1 shape: (?, 128, 128, 64)\n",
      "pool1 shape: (?, 64, 64, 64)\n",
      "conv2 shape: (?, 64, 64, 128)\n",
      "conv2 shape: (?, 64, 64, 128)\n",
      "pool2 shape: (?, 32, 32, 128)\n",
      "conv3 shape: (?, 32, 32, 256)\n",
      "conv3 shape: (?, 32, 32, 256)\n",
      "pool3 shape: (?, 16, 16, 256)\n"
     ]
    },
    {
     "name": "stderr",
     "output_type": "stream",
     "text": [
      "D:\\Anaconda3\\envs\\tensorflow\\lib\\site-packages\\ipykernel_launcher.py:246: UserWarning: The `merge` function is deprecated and will be removed after 08/2017. Use instead layers from `keras.layers.merge`, e.g. `add`, `concatenate`, etc.\n",
      "D:\\Anaconda3\\envs\\tensorflow\\lib\\site-packages\\keras\\legacy\\layers.py:465: UserWarning: The `Merge` layer is deprecated and will be removed after 08/2017. Use instead layers from `keras.layers.merge`, e.g. `add`, `concatenate`, etc.\n",
      "  name=name)\n",
      "D:\\Anaconda3\\envs\\tensorflow\\lib\\site-packages\\ipykernel_launcher.py:251: UserWarning: The `merge` function is deprecated and will be removed after 08/2017. Use instead layers from `keras.layers.merge`, e.g. `add`, `concatenate`, etc.\n",
      "D:\\Anaconda3\\envs\\tensorflow\\lib\\site-packages\\ipykernel_launcher.py:256: UserWarning: The `merge` function is deprecated and will be removed after 08/2017. Use instead layers from `keras.layers.merge`, e.g. `add`, `concatenate`, etc.\n",
      "D:\\Anaconda3\\envs\\tensorflow\\lib\\site-packages\\ipykernel_launcher.py:261: UserWarning: The `merge` function is deprecated and will be removed after 08/2017. Use instead layers from `keras.layers.merge`, e.g. `add`, `concatenate`, etc.\n",
      "D:\\Anaconda3\\envs\\tensorflow\\lib\\site-packages\\ipykernel_launcher.py:272: UserWarning: Update your `Model` call to the Keras 2 API: `Model(inputs=Tensor(\"in..., outputs=Tensor(\"co...)`\n"
     ]
    },
    {
     "name": "stdout",
     "output_type": "stream",
     "text": [
      "112/112 [==============================] - 2s 14ms/step\n",
      "295/295 [==============================] - 3s 9ms/step\n",
      "363/363 [==============================] - 3s 8ms/step\n",
      "Time to process --- 8.319488763809204 seconds ---\n"
     ]
    }
   ],
   "source": [
    "start_time = time.time()\n",
    "myunet = myUnet()\n",
    "\n",
    "model = myunet.get_unet()\n",
    "\n",
    "model.load_weights('sagittal-network-ns.hdf5')\n",
    "calculated_labels_sagittal = model.predict(volumes_sagittal, verbose=1)\n",
    "\n",
    "model.load_weights('coronal-network-ns.hdf5')\n",
    "calculated_labels_coronal = model.predict(volumes_coronal, verbose=1)\n",
    "\n",
    "model.load_weights('axial-network-ns.hdf5')\n",
    "calculated_labels_axial = model.predict(volumes_axial, verbose=1)\n",
    "\n",
    "print(\"Time to process --- %s seconds ---\" % (time.time() - start_time))"
   ]
  },
  {
   "cell_type": "markdown",
   "metadata": {},
   "source": [
    "# Resize and transpose volumes"
   ]
  },
  {
   "cell_type": "code",
   "execution_count": 12,
   "metadata": {
    "scrolled": true
   },
   "outputs": [
    {
     "name": "stderr",
     "output_type": "stream",
     "text": [
      "D:\\Anaconda3\\envs\\tensorflow\\lib\\site-packages\\skimage\\transform\\_warps.py:105: UserWarning: The default mode, 'constant', will be changed to 'reflect' in skimage 0.15.\n",
      "  warn(\"The default mode, 'constant', will be changed to 'reflect' in \"\n",
      "D:\\Anaconda3\\envs\\tensorflow\\lib\\site-packages\\skimage\\transform\\_warps.py:110: UserWarning: Anti-aliasing will be enabled by default in skimage 0.15 to avoid aliasing artifacts when down-sampling images.\n",
      "  warn(\"Anti-aliasing will be enabled by default in skimage 0.15 to \"\n"
     ]
    },
    {
     "data": {
      "image/png": "[encoded data removed]",
      "text/plain": [
       "<Figure size 432x288 with 4 Axes>"
      ]
     },
     "metadata": {},
     "output_type": "display_data"
    }
   ],
   "source": [
    "labels_coronal_rs = resize(calculated_labels_coronal, (128, 128, 128), anti_aliasing=False)\n",
    "labels_coronal_tr = np.transpose(labels_coronal_rs[:,:,:,0], (2, 1, 0))\n",
    "\n",
    "\n",
    "labels_axial_rs = resize(calculated_labels_axial, (128, 128, 128), anti_aliasing=False)\n",
    "labels_axial_tr = np.transpose(labels_axial_rs[:,:,:,0], (1, 0, 2))\n",
    "\n",
    "\n",
    "labels_sagittal_rs = resize(calculated_labels_sagittal, (128, 128, 128), anti_aliasing=False)\n",
    "labels_sagittal_rs = labels_sagittal_rs[:,:,:,0]\n",
    "\n",
    "volumes_sagittal_rs = resize(volumes_sagittal, (128, 128, 128))\n",
    "volumes_sagittal_rs = volumes_sagittal_rs[:,:,:,0]\n",
    "\n",
    "slice = 60\n",
    "\n",
    "f = plt.figure()\n",
    "f.add_subplot(2,2, 1)\n",
    "plt.imshow(labels_sagittal_rs[slice], cmap='gray')\n",
    "f.add_subplot(2,2, 2)\n",
    "plt.imshow(labels_axial_tr[slice], cmap='gray')\n",
    "f.add_subplot(2,2, 3)\n",
    "plt.imshow(labels_coronal_tr[slice], cmap='gray')\n",
    "f.add_subplot(2,2, 4)\n",
    "plt.imshow(volumes_sagittal_rs[slice], cmap='gray')\n",
    "plt.show(block=True)"
   ]
  },
  {
   "cell_type": "markdown",
   "metadata": {},
   "source": [
    "# Combine results and saves labels"
   ]
  },
  {
   "cell_type": "code",
   "execution_count": 64,
   "metadata": {},
   "outputs": [
    {
     "data": {
      "image/png": "[encoded data removed]",
      "text/plain": [
       "<Figure size 432x288 with 2 Axes>"
      ]
     },
     "metadata": {},
     "output_type": "display_data"
    }
   ],
   "source": [
    "slice = 80\n",
    "\n",
    "labels_combined = labels_sagittal_rs + labels_axial_tr + labels_coronal_tr\n",
    "\n",
    "upper = 100\n",
    "lower = 0\n",
    "threshold = 1.5\n",
    "labels_combined_bn = np.where(labels_combined>threshold, upper, lower)\n",
    "\n",
    "f = plt.figure()\n",
    "f.add_subplot(1,2, 1)\n",
    "plt.imshow(labels_combined_bn[slice], cmap='gray')\n",
    "f.add_subplot(1,2, 2)\n",
    "plt.imshow(volumes_sagittal_rs[slice], cmap='gray')\n",
    "plt.show(block=True)\n",
    "\n",
    "\n",
    "labels_combined_bn = labels_combined_bn.astype('float32')\n",
    "volumes_sagittal_rs = volumes_sagittal_rs.astype('float32')\n",
    "\n",
    "labels_combined_image = sitk.GetImageFromArray(labels_combined_bn)\n",
    "sitk.WriteImage(labels_combined_image, \"test_combined_labels_v87_ns.tif\")\n",
    "\n",
    "volumes_sagittal_image = sitk.GetImageFromArray(volumes_sagittal_rs)\n",
    "sitk.WriteImage(volumes_sagittal_image, \"test_volumes_v87_ns.tif\")"
   ]
  },
  {
   "cell_type": "code",
   "execution_count": 65,
   "metadata": {},
   "outputs": [
    {
     "name": "stdout",
     "output_type": "stream",
     "text": [
      "Shape of the labels numpy array :  (104, 128, 128, 1)\n",
      "Type of the array is :  uint8\n",
      "Time to process --- 0.062451839447021484 seconds ---\n"
     ]
    },
    {
     "name": "stderr",
     "output_type": "stream",
     "text": [
      "D:\\Anaconda3\\envs\\tensorflow\\lib\\site-packages\\skimage\\transform\\_warps.py:105: UserWarning: The default mode, 'constant', will be changed to 'reflect' in skimage 0.15.\n",
      "  warn(\"The default mode, 'constant', will be changed to 'reflect' in \"\n"
     ]
    }
   ],
   "source": [
    "labels_ski10, labels_shape = create_numpy_labels('data/test3d/labels', 'sagittal')\n",
    "\n",
    "\n",
    "# upper = 100\n",
    "# lower = 0\n",
    "# threshold = 150\n",
    "# labels_ski10 = np.where(labels_ski10[:,:,:,0]>threshold, upper, lower)\n",
    "# plt.imshow(labels_ski10[slice], cmap='gray')\n",
    "\n",
    "labels_ski10 = resize(labels_ski10, (128, 128, 128), anti_aliasing=False)\n",
    "\n",
    "\n",
    "\n",
    "\n",
    "\n",
    "\n",
    "upper = 100\n",
    "lower = 0\n",
    "threshold = 0.5\n",
    "labels_ski10 = np.where(labels_ski10[:,:,:,0]>threshold, upper, lower)\n",
    "\n",
    "labels_ski10 = labels_ski10.astype('float32')\n",
    "\n",
    "\n",
    "labels_ski10_image = sitk.GetImageFromArray(labels_ski10)\n",
    "sitk.WriteImage(labels_ski10_image, \"test_labels_ski10_v87.tif\")\n",
    "\n"
   ]
  },
  {
   "cell_type": "code",
   "execution_count": 51,
   "metadata": {
    "scrolled": true
   },
   "outputs": [
    {
     "data": {
      "image/png": "[encoded data removed]",
      "text/plain": [
       "<Figure size 432x288 with 1 Axes>"
      ]
     },
     "metadata": {},
     "output_type": "display_data"
    }
   ],
   "source": [
    "upper = 100\n",
    "lower = 0\n",
    "threshold = 0.5\n",
    "labels_sagittal_bn = np.where(labels_sagittal_rs>threshold, upper, lower)\n",
    "\n",
    "labels_sagittal_bn = labels_sagittal_bn.astype('float32')\n",
    "\n",
    "plt.imshow(labels_sagittal_bn[slice], cmap='gray')\n",
    "\n",
    "labels_sagittal_image = sitk.GetImageFromArray(labels_sagittal_bn)\n",
    "#sitk.WriteImage(labels_sagittal_image, \"test_sagittal_labels_v1_ns.tif\")"
   ]
  },
  {
   "cell_type": "code",
   "execution_count": 76,
   "metadata": {
    "scrolled": false
   },
   "outputs": [
    {
     "data": {
      "image/png": "[encoded data removed]",
      "text/plain": [
       "<Figure size 432x288 with 1 Axes>"
      ]
     },
     "metadata": {},
     "output_type": "display_data"
    }
   ],
   "source": [
    "upper = 100\n",
    "lower = 0\n",
    "threshold = 0.5\n",
    "labels_coronal_bn = np.where(labels_coronal_tr>threshold, upper, lower)\n",
    "\n",
    "labels_coronal_bn = labels_coronal_bn.astype('float32')\n",
    "\n",
    "plt.imshow(labels_coronal_bn[slice], cmap='gray')\n",
    "\n",
    "labels_coronal_image = sitk.GetImageFromArray(labels_coronal_bn)\n",
    "sitk.WriteImage(labels_coronal_image, \"test_coronal_labels_v38.tif\")"
   ]
  },
  {
   "cell_type": "markdown",
   "metadata": {},
   "source": [
    "# DICE calculation"
   ]
  },
  {
   "cell_type": "code",
   "execution_count": 66,
   "metadata": {},
   "outputs": [
    {
     "name": "stdout",
     "output_type": "stream",
     "text": [
      "Combined Dice similarity score is 0.9563865723507601\n",
      "Sagittal Dice similarity score is 0.951631844086872\n"
     ]
    }
   ],
   "source": [
    "upper = 1\n",
    "lower = 0\n",
    "threshold = 0.5\n",
    "labels_combined_bn = np.where(labels_combined_bn>threshold, upper, lower)\n",
    "labels_ski10 = np.where(labels_ski10>threshold, upper, lower)\n",
    "labels_sagittal_bn = np.where(labels_sagittal_rs>threshold, upper, lower)\n",
    "\n",
    "\n",
    "dice = np.sum(labels_combined_bn[labels_ski10==1])*2.0 / (np.sum(labels_combined_bn) + np.sum(labels_ski10))\n",
    "dice2 = np.sum(labels_sagittal_bn[labels_ski10==1])*2.0 / (np.sum(labels_sagittal_bn) + np.sum(labels_ski10))\n",
    "print('Combined Dice similarity score is {}'.format(dice))\n",
    "print('Sagittal Dice similarity score is {}'.format(dice2))"
   ]
  }
 ],
 "metadata": {
  "kernelspec": {
   "display_name": "Python 3",
   "language": "python",
   "name": "python3"
  },
  "language_info": {
   "codemirror_mode": {
    "name": "ipython",
    "version": 3
   },
   "file_extension": ".py",
   "mimetype": "text/x-python",
   "name": "python",
   "nbconvert_exporter": "python",
   "pygments_lexer": "ipython3",
   "version": "3.5.5"
  }
 },
 "nbformat": 4,
 "nbformat_minor": 2
}

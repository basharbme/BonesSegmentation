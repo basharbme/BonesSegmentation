{
 "cells": [
  {
   "cell_type": "markdown",
   "metadata": {},
   "source": [
    "# Librairies"
   ]
  },
  {
   "cell_type": "code",
   "execution_count": 49,
   "metadata": {},
   "outputs": [],
   "source": [
    "import numpy as np\n",
    "import matplotlib.pyplot as plt\n",
    "import SimpleITK as sitk\n",
    "import cv2\n",
    "import glob\n",
    "from scipy import ndimage\n",
    "import time\n",
    "from skimage.transform import resize\n",
    "\n",
    "view = 'coronal' #sagittal, axial or coronal\n",
    "volumes_path = \"data/validation/volumes\"\n",
    "labels_path = \"data/validation/labels\"\n",
    "img_type = \"mhd\""
   ]
  },
  {
   "cell_type": "markdown",
   "metadata": {},
   "source": [
    "# Functions"
   ]
  },
  {
   "cell_type": "code",
   "execution_count": 50,
   "metadata": {},
   "outputs": [],
   "source": [
    "def load_itk(filename):\n",
    "    # Reads the image using SimpleITK\n",
    "    itkimage = sitk.ReadImage(filename)\n",
    "\n",
    "    # Convert the image to a  numpy array first and then shuffle the dimensions to get axis in the order z,y,x\n",
    "    ct_scan = sitk.GetArrayFromImage(itkimage)\n",
    "\n",
    "    # Read the origin of the ct_scan, will be used to convert the coordinates from world to voxel and vice versa.\n",
    "    origin = np.array(list(reversed(itkimage.GetOrigin())))\n",
    "\n",
    "    # Read the spacing along each dimension\n",
    "    spacing = np.array(list(reversed(itkimage.GetSpacing())))\n",
    "\n",
    "    return ct_scan, origin, spacing\n",
    "\n",
    "\n",
    "def unison_shuffled_copies(a, b):\n",
    "    assert len(a) == len(b)\n",
    "    p = np.random.permutation(len(a))\n",
    "    return a[p], b[p]\n",
    "\n",
    "def create_numpy_volumes(volumes_path, view, img_type):\n",
    "\tprint('Create volumes...')\n",
    "\tstart_time = time.time()\n",
    "    \n",
    "    \n",
    "\tvolumes_list = glob.glob(volumes_path+\"/*.\"+img_type) #Create a list of all volumes path\n",
    "\tvolumes_list.sort() #Sort alphabetically\n",
    "\n",
    "    #Create numpy arrays \n",
    "\tnumpy_volumes = np.ndarray((0,128,128,1), dtype=np.uint8) #It will contain all volumes.\n",
    "\tvolumes_original_shape = np.ndarray((len(volumes_list),3), dtype=np.uint16) #It will contain all volumes shape\n",
    "\n",
    "    \n",
    "\tindex = 0 #index of the slice position\n",
    "\tindex_2 = 0 #index of the volume\n",
    "\n",
    "\tfor volume_name in volumes_list :\n",
    "        \n",
    "\t\t(mri_volume, origin, spacing) = load_itk(volume_name) #mri_volume is the volume converted in numpy array\n",
    "        \n",
    "\t\tvolumes_original_shape[index_2] = mri_volume.shape\n",
    "\t\tindex_2 +=1\n",
    "        \n",
    "\t\tif(view == 'coronal'):\n",
    "\t\t\tmri_volume = np.transpose(mri_volume, (2, 1, 0))\n",
    "\t\telif(view == 'axial'):\n",
    "\t\t\tmri_volume = np.transpose(mri_volume, (1, 0, 2))\n",
    "\t\telif(view == 'sagittal'):\n",
    "\t\t\tpass\n",
    "\t\telse:\n",
    "\t\t\tprint('\\033[93m' + 'Please select a view among : coronal, axial and sagittal' + '\\033[0m')\n",
    "\n",
    "    \n",
    "\t\tmri_volume = 255 / np.amax(mri_volume) * mri_volume #Normalize the maximum intensity to 255\n",
    "\t\tmri_volume = mri_volume.astype('uint8')\n",
    "\n",
    "    \n",
    "        #increase the size of numpy_volumes corresponding to the volume processed in this loop\n",
    "\t\tnumpy_volumes = np.lib.pad(numpy_volumes, ((0,mri_volume.shape[0]),(0,0),(0,0),(0,0)), 'constant', constant_values=(0))\n",
    "    \n",
    "\t\t#Resize every slices and add them into numpy_volumes\n",
    "\t\tfor i in range(0,mri_volume.shape[0]):\n",
    "        \n",
    "\t\t\tmri_slice_res = cv2.resize(mri_volume[i], dsize=(128, 128), interpolation=cv2.INTER_CUBIC)\n",
    "            \n",
    "\t\t\tmri_slice_res = mri_slice_res[..., np.newaxis] #add an axis to mri_slice_res to fit numpy_volumes\n",
    "            \n",
    "\t\t\tnumpy_volumes[i + index] = mri_slice_res\n",
    "\n",
    "\t\tindex = index + mri_volume.shape[0]\n",
    "        \n",
    "\tprint('Shape of the volumes numpy array : ',numpy_volumes.shape, 'for ', index_2, ' volumes')\n",
    "\tprint('Type of the array is : ',numpy_volumes.dtype)\n",
    "\tprint(\"Time to process --- %s seconds ---\" % (time.time() - start_time))\n",
    "\tprint()\n",
    "    \n",
    "\treturn numpy_volumes, volumes_original_shape\n",
    "\n",
    "\n",
    "\n",
    "\n",
    "\n",
    "\n",
    "\n",
    "\n",
    "\n",
    "def create_numpy_labels(labels_path, view, img_type):\n",
    "    print('Create labels...')\n",
    "    start_time = time.time()\n",
    "    labels_list = glob.glob(labels_path+\"/*.\"+img_type) #Create a list of all labels path\n",
    "    labels_list.sort() #Sort alphabetically\n",
    "\n",
    "    #Create a numpy arrays \n",
    "    numpy_labels = np.ndarray((0,128,128,1), dtype=np.uint8) #It will contain all labels.\n",
    "    labels_original_shape = np.ndarray((len(labels_list),3), dtype=np.uint16) #It will contain all labels shape\n",
    "    \n",
    "    index = 0 #index of the slice position\n",
    "    index_2 = 0 #index of volume position\n",
    "    \n",
    "    for label_name in labels_list :\n",
    "    \n",
    "        #mri_label is the 3D label converted in numpy array\n",
    "        (mri_label, origin, spacing) = load_itk(label_name)\n",
    "        labels_original_shape[index_2] = mri_label.shape\n",
    "        index_2 +=1\n",
    "        \n",
    "        #select the view\n",
    "        if(view == 'coronal'):\n",
    "            mri_label = np.transpose(mri_label, (2, 1, 0))\n",
    "        elif(view == 'axial'):\n",
    "            mri_label = np.transpose(mri_label, (1, 0, 2))\n",
    "        elif(view == 'sagittal'):\n",
    "            pass\n",
    "        else:\n",
    "            print('\\033[93m' + 'Please select a view among : coronal, axial and sagittal' + '\\033[0m')\n",
    "            \n",
    "        #increase the size of numpy_labels corresponding to the 3d label processed in this loop\n",
    "        numpy_labels = np.lib.pad(numpy_labels, ((0,mri_label.shape[0]),(0,0),(0,0),(0,0)), 'constant', constant_values=(0))\n",
    "    \n",
    "    \n",
    "        #We resize every slices and put them into numpy_volumes\n",
    "        for i in range(0,mri_label.shape[0]):\n",
    "        \n",
    "            mri_slice_res = cv2.resize(mri_label[i], dsize=(128, 128), interpolation=cv2.INTER_CUBIC)\n",
    "        \n",
    "            mask1 = mri_slice_res == 2 #Femur cartilage\n",
    "            mri_slice_res[mask1] = 0\n",
    "\n",
    "            mask2 = mri_slice_res == 4 #Tibia cartilage\n",
    "            mri_slice_res[mask2] = 0\n",
    "\n",
    "            mask3 = mri_slice_res == 1 #Femur\n",
    "            mri_slice_res[mask3] = 0\n",
    "\n",
    "            mask4 = mri_slice_res == 3 #Tibia\n",
    "            mri_slice_res[mask4] = 255\n",
    "        \n",
    "            #Opening to erase the defaults due to resizing\n",
    "            mri_slice_res = ndimage.binary_opening(mri_slice_res, structure=np.ones((3,3))).astype(int)\n",
    "            #mri_slice_res = ndimage.remove_small_objects(mri_slice_res, 8)\n",
    "        \n",
    "            mask5 = mri_slice_res == 1\n",
    "            mri_slice_res[mask5] = 255\n",
    "        \n",
    "            mri_slice_res = mri_slice_res[..., np.newaxis] #add an axis to mri_slice_res to fit numpy_labels\n",
    "\n",
    "            numpy_labels[i + index] = mri_slice_res\n",
    "        \n",
    "    \n",
    "        index = index + mri_label.shape[0]\n",
    "\n",
    "    \n",
    "    print('Shape of the labels numpy array : ',numpy_labels.shape, 'for ', index_2, ' volumes')\n",
    "    print('Type of the array is : ',numpy_labels.dtype)\n",
    "    print(\"Time to process --- %s seconds ---\" % (time.time() - start_time))\n",
    "    print()\n",
    "    \n",
    "    return numpy_labels, labels_original_shape\n",
    "\n",
    "\n"
   ]
  },
  {
   "cell_type": "markdown",
   "metadata": {},
   "source": [
    "# Convert volumes and labels into Numpy array"
   ]
  },
  {
   "cell_type": "code",
   "execution_count": 51,
   "metadata": {
    "scrolled": true
   },
   "outputs": [
    {
     "name": "stdout",
     "output_type": "stream",
     "text": [
      "Create volumes...\n",
      "Shape of the volumes numpy array :  (4292, 128, 128, 1) for  15  volumes\n",
      "Type of the array is :  uint8\n",
      "Time to process --- 2.4315226078033447 seconds ---\n",
      "\n",
      "Create labels...\n",
      "Shape of the labels numpy array :  (4292, 128, 128, 1) for  15  volumes\n",
      "Type of the array is :  uint8\n",
      "Time to process --- 2.931133985519409 seconds ---\n",
      "\n"
     ]
    }
   ],
   "source": [
    "numpy_volumes, volumes_original_shape = create_numpy_volumes(volumes_path, view, img_type)\n",
    "numpy_labels, labels_original_shape = create_numpy_labels(labels_path, view, img_type)"
   ]
  },
  {
   "cell_type": "markdown",
   "metadata": {},
   "source": [
    "# Shuffle labels and volumes in unison"
   ]
  },
  {
   "cell_type": "code",
   "execution_count": 75,
   "metadata": {},
   "outputs": [
    {
     "name": "stdout",
     "output_type": "stream",
     "text": [
      "Volumes and labels have been shuffled in unison\n",
      "Time to process --- 0.12169623374938965 seconds ---\n"
     ]
    }
   ],
   "source": [
    "#Shuffling is not mandatory. Depending of the dataset, shuffling could result to a skewed test set. Do not shuffle for SKI10 dataset\n",
    "start_time = time.time()\n",
    "[numpy_volumes, numpy_labels] = unison_shuffled_copies(numpy_volumes, numpy_labels)\n",
    "print(\"Volumes and labels have been shuffled in unison\")\n",
    "print(\"Time to process --- %s seconds ---\" % (time.time() - start_time))"
   ]
  },
  {
   "cell_type": "markdown",
   "metadata": {},
   "source": [
    "#  Separate Train, Validation and Test dataset then save them as numpy array"
   ]
  },
  {
   "cell_type": "code",
   "execution_count": 52,
   "metadata": {},
   "outputs": [
    {
     "name": "stdout",
     "output_type": "stream",
     "text": [
      "Shape of the train volumes array :  (0, 128, 128, 1)\n",
      "Shape of the train labels array :  (0, 128, 128, 1)\n",
      "Shape of the validation volumes array :  (4292, 128, 128, 1)\n",
      "Shape of the validation labels array :  (4292, 128, 128, 1)\n",
      "Shape of the test volumes array :  (0, 128, 128, 1)\n",
      "Shape of the test labels array :  (0, 128, 128, 1)\n",
      "Time to process --- 0.3748972415924072 seconds ---\n"
     ]
    }
   ],
   "source": [
    "start_time = time.time()\n",
    "ratio = 1 #ratio of training + validation data / test data\n",
    "index = int(ratio*numpy_volumes.shape[0])\n",
    "\n",
    "ratio_v = 0 #ratio of training / validation data\n",
    "index_v = int(ratio_v*index)\n",
    "\n",
    "\n",
    "train_volumes = numpy_volumes[:index_v, :, :, :]\n",
    "train_labels = numpy_labels[:index_v, :, :, :]\n",
    "\n",
    "validation_volumes = numpy_volumes[index_v:index, :, :, :]\n",
    "validation_labels = numpy_labels[index_v:index, :, :, :]\n",
    "\n",
    "test_volumes = numpy_volumes[index:, :, :, :]\n",
    "test_labels = numpy_labels[index:, :, :, :]\n",
    "\n",
    "\n",
    "print('Shape of the train volumes array : ',train_volumes.shape)\n",
    "np.save('data/npydata/train_volumes.npy', train_volumes)\n",
    "print('Shape of the train labels array : ',train_labels.shape)\n",
    "np.save('data/npydata/train_labels.npy', train_labels)\n",
    "\n",
    "\n",
    "print('Shape of the validation volumes array : ',validation_volumes.shape)\n",
    "np.save('data/npydata/validation_volumes.npy', validation_volumes)\n",
    "print('Shape of the validation labels array : ',validation_labels.shape)\n",
    "np.save('data/npydata/validation_labels.npy', validation_labels)\n",
    "\n",
    "\n",
    "print('Shape of the test volumes array : ',test_volumes.shape)\n",
    "np.save('data/npydata/test_volumes.npy', test_volumes)\n",
    "print('Shape of the test labels array : ',test_labels.shape)\n",
    "np.save('data/npydata/test_labels.npy', test_labels)\n",
    "\n",
    "print(\"Time to process --- %s seconds ---\" % (time.time() - start_time))"
   ]
  },
  {
   "cell_type": "markdown",
   "metadata": {},
   "source": [
    "# Visualize data"
   ]
  },
  {
   "cell_type": "code",
   "execution_count": 30,
   "metadata": {},
   "outputs": [
    {
     "data": {
      "image/png": "[encoded data removed]",
      "text/plain": [
       "<Figure size 432x288 with 4 Axes>"
      ]
     },
     "metadata": {},
     "output_type": "display_data"
    }
   ],
   "source": [
    "slice = 1250\n",
    "f = plt.figure()\n",
    "f.add_subplot(2,2, 1)\n",
    "#plt.imshow(train_labels[slice][:,:,0], cmap='gray')\n",
    "plt.imshow(train_labels[slice][:,:,0], cmap='gray')\n",
    "f.add_subplot(2,2, 2)\n",
    "#plt.imshow(train_volumes[slice][:,:,0], cmap='gray')\n",
    "plt.imshow(train_volumes[slice][:,:,0], cmap='gray')\n",
    "f.add_subplot(2,2, 3)\n",
    "plt.hist(train_labels[slice][:,:,0].ravel(),256,[0,256])\n",
    "f.add_subplot(2,2, 4)\n",
    "plt.hist(train_volumes[slice][:,:,0].ravel(),256,[0,256])\n",
    "plt.show(block=True)"
   ]
  }
 ],
 "metadata": {
  "kernelspec": {
   "display_name": "Python 3",
   "language": "python",
   "name": "python3"
  },
  "language_info": {
   "codemirror_mode": {
    "name": "ipython",
    "version": 3
   },
   "file_extension": ".py",
   "mimetype": "text/x-python",
   "name": "python",
   "nbconvert_exporter": "python",
   "pygments_lexer": "ipython3",
   "version": "3.5.5"
  }
 },
 "nbformat": 4,
 "nbformat_minor": 2
}
